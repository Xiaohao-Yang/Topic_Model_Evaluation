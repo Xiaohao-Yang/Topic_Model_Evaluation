{
 "cells": [
  {
   "cell_type": "markdown",
   "id": "b4b0778f-27cc-4135-9786-7770b9608832",
   "metadata": {},
   "source": [
    "# WALM score functions"
   ]
  },
  {
   "cell_type": "markdown",
   "id": "56d83c7c-5b3c-4814-9dcf-0242be252ff7",
   "metadata": {},
   "source": [
    "WALM score functions compute the similarity between two sets of words."
   ]
  },
  {
   "cell_type": "code",
   "execution_count": 1,
   "id": "df9dcb00-f041-4aee-80ad-ea3ec3eba44f",
   "metadata": {},
   "outputs": [
    {
     "name": "stderr",
     "output_type": "stream",
     "text": [
      "[nltk_data] Downloading package wordnet to /home/xiaohao/nltk_data...\n",
      "[nltk_data]   Package wordnet is already up-to-date!\n"
     ]
    }
   ],
   "source": [
    "from walm import walm_overlap, walm_synset, walm_ot, walm_oa\n",
    "import gensim.downloader as api # we use gensim word embedding models"
   ]
  },
  {
   "cell_type": "code",
   "execution_count": 2,
   "id": "60c99d1598b1ccb8",
   "metadata": {
    "ExecuteTime": {
     "end_time": "2025-01-10T04:00:14.237481Z",
     "start_time": "2025-01-10T04:00:13.927716Z"
    }
   },
   "outputs": [],
   "source": [
    "words1 = ['us', 'au']\n",
    "words2 = ['america', 'australia', 'people']"
   ]
  },
  {
   "cell_type": "markdown",
   "id": "17ff1f7d-55b0-410a-b359-bcd59e695c66",
   "metadata": {},
   "source": [
    "## Overlap-based score functions"
   ]
  },
  {
   "cell_type": "code",
   "execution_count": 3,
   "id": "1f6f2d59-942e-426b-8082-6829f85e2520",
   "metadata": {},
   "outputs": [
    {
     "name": "stdout",
     "output_type": "stream",
     "text": [
      "walm overlap:  0.0\n",
      "walm synset:  0.2\n"
     ]
    }
   ],
   "source": [
    "# overlap based scores\n",
    "print('walm overlap: ', walm_overlap(words1, words2))\n",
    "print('walm synset: ', walm_synset(words1, words2))"
   ]
  },
  {
   "cell_type": "markdown",
   "id": "2306a8c6-f4dd-43ab-8997-bda5ea77425a",
   "metadata": {},
   "source": [
    "walm_overlap measures the overlap between two sets of words, while walm_synset extends this by considering synset overlap between different words."
   ]
  },
  {
   "cell_type": "markdown",
   "id": "a5fb0175-0ed3-42a4-b5b0-948fecfd9100",
   "metadata": {},
   "source": [
    "## Embedding-based score functions"
   ]
  },
  {
   "cell_type": "code",
   "execution_count": 4,
   "id": "411c10d1-fee1-4f7d-a92e-0691a0af908a",
   "metadata": {},
   "outputs": [
    {
     "name": "stdout",
     "output_type": "stream",
     "text": [
      "Loading glove model ...\n",
      "Loading done!\n"
     ]
    }
   ],
   "source": [
    "# load word embedding model\n",
    "print('Loading glove model ...')\n",
    "embedding_model = api.load(\"glove-wiki-gigaword-50\")\n",
    "print('Loading done!')"
   ]
  },
  {
   "cell_type": "code",
   "execution_count": 5,
   "id": "3c111e63-3b23-4446-abcc-9eebfc24d659",
   "metadata": {},
   "outputs": [
    {
     "name": "stdout",
     "output_type": "stream",
     "text": [
      "walm optimal assignment:  0.978635346639759\n"
     ]
    }
   ],
   "source": [
    "# optimal assignment\n",
    "print('walm optimal assignment: ', walm_oa(words1, words2, embedding_model))"
   ]
  },
  {
   "cell_type": "markdown",
   "id": "43d6a4bf-7e0b-4718-8c21-50742602638d",
   "metadata": {},
   "source": [
    "walm_oa solves an optimal assignment problem between word set 1 and word set 2."
   ]
  },
  {
   "cell_type": "code",
   "execution_count": 6,
   "id": "b594a76086dc7e13",
   "metadata": {},
   "outputs": [
    {
     "name": "stdout",
     "output_type": "stream",
     "text": [
      "walm optimal transport:  0.5193005172391889\n"
     ]
    }
   ],
   "source": [
    "# optimal transport\n",
    "word_dis1 = {'words': words1, 'weights': [0.5, 0.5]}\n",
    "word_dis2 = {'words': words2, 'weights': [0.1, 0.1, 0.8]}\n",
    "print('walm optimal transport: ', walm_ot(word_dis1, word_dis2, embedding_model))"
   ]
  },
  {
   "cell_type": "markdown",
   "id": "4567cbca-f3ea-4259-b4fb-075b8478939c",
   "metadata": {},
   "source": [
    "walm_ot solves an optimal transport problem between word distribution 1 and word distribution 2."
   ]
  },
  {
   "cell_type": "markdown",
   "id": "f283bc47-eced-43d0-adb3-81d349c9aa8f",
   "metadata": {},
   "source": [
    "For further details of the computation, please refer to the implmenetation [here] or the paper [here]"
   ]
  }
 ],
 "metadata": {
  "kernelspec": {
   "display_name": "Python 3 (ipykernel)",
   "language": "python",
   "name": "python3"
  },
  "language_info": {
   "codemirror_mode": {
    "name": "ipython",
    "version": 3
   },
   "file_extension": ".py",
   "mimetype": "text/x-python",
   "name": "python",
   "nbconvert_exporter": "python",
   "pygments_lexer": "ipython3",
   "version": "3.9.21"
  }
 },
 "nbformat": 4,
 "nbformat_minor": 5
}
