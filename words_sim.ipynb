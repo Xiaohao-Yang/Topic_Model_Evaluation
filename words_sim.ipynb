#%%

#%%
from walm import walm_overlap, walm_synset, walm_ot, walm_oa
import gensim.downloader as api

#%%
words1 = ['us', 'au']
words2 = ['america', 'australia', 'people']

# overlap based
print(walm_overlap(words1, words2))
print(walm_synset(words1, words2))


# embedding based
print('Loading glove model ...')
embedding_model = api.load("glove-wiki-gigaword-50")
print('Loading done!')

# optimal assignment
print(walm_oa(words1, words2, embedding_model))

# optimal transport
word_dis1 = {'words': words1, 'weights': [0.5, 0.5]}
word_dis2 = {'words': words2, 'weights': [0.1, 0.1, 0.8]}
print(walm_ot(word_dis1, word_dis2, embedding_model))
