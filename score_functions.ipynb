{
 "cells": [
  {
   "cell_type": "markdown",
   "id": "6d45ee9f-32cc-4e2a-bf41-70c4e3edef12",
   "metadata": {
    "ExecuteTime": {
     "end_time": "2025-01-13T06:13:19.932182Z",
     "start_time": "2025-01-13T06:13:19.930530Z"
    }
   },
   "source": [
    "# WALM score functions\n",
    "WALM score functions compute the similarity between two sets of words."
   ]
  },
  {
   "cell_type": "code",
   "execution_count": 1,
   "id": "f677566b2279c46e",
   "metadata": {},
   "outputs": [
    {
     "name": "stdout",
     "output_type": "stream",
     "text": [
      "The history saving thread hit an unexpected error (OperationalError('attempt to write a readonly database')).History will not be written to the database.\n"
     ]
    },
    {
     "name": "stderr",
     "output_type": "stream",
     "text": [
      "[nltk_data] Downloading package wordnet to /home/xiaohao/nltk_data...\n",
      "[nltk_data]   Package wordnet is already up-to-date!\n"
     ]
    }
   ],
   "source": [
    "from walm import walm_overlap, walm_synset, walm_ot, walm_oa\n",
    "import gensim.downloader as api # we use gensim word embedding models"
   ]
  },
  {
   "cell_type": "code",
   "execution_count": 2,
   "id": "91b96853-de97-450d-b1c1-97391bc6770a",
   "metadata": {},
   "outputs": [],
   "source": [
    "words1 = ['us', 'au']\n",
    "words2 = ['america', 'australia', 'people']"
   ]
  },
  {
   "cell_type": "markdown",
   "id": "c56f5ad6-0756-4812-8188-c7107875db4f",
   "metadata": {},
   "source": [
    "## Overlap-based score functions\n",
    "walm_overlap measures the overlap between two sets of words, while walm_synset extends this by considering synset overlap between different words."
   ]
  },
  {
   "cell_type": "code",
   "execution_count": 3,
   "id": "121a447a-4af9-4e13-8bdc-70b7fc860512",
   "metadata": {},
   "outputs": [
    {
     "name": "stdout",
     "output_type": "stream",
     "text": [
      "walm overlap:  0.0\n",
      "walm synset:  0.2\n"
     ]
    }
   ],
   "source": [
    "# overlap based scores\n",
    "print('walm overlap: ', walm_overlap(words1, words2))\n",
    "print('walm synset: ', walm_synset(words1, words2))"
   ]
  },
  {
   "cell_type": "markdown",
   "id": "61acaa92-4dec-4d0d-8ab0-f09f5274c95c",
   "metadata": {},
   "source": [
    "## Embedding-based score functions\n",
    "walm_oa solves an optimal assignment problem between word set 1 and word set 2. walm_ot solves an optimal transport problem between word distribution 1 and word distribution 2."
   ]
  },
  {
   "cell_type": "code",
   "execution_count": 4,
   "id": "3b71a112-ba29-44eb-810a-a89d0ba911b0",
   "metadata": {},
   "outputs": [
    {
     "name": "stdout",
     "output_type": "stream",
     "text": [
      "Loading glove model ...\n",
      "Loading done!\n"
     ]
    }
   ],
   "source": [
    "# load word embedding model\n",
    "print('Loading glove model ...')\n",
    "embedding_model = api.load(\"glove-wiki-gigaword-50\")\n",
    "print('Loading done!')"
   ]
  },
  {
   "cell_type": "code",
   "execution_count": 5,
   "id": "396d36e7-e081-4294-98da-915b93149442",
   "metadata": {},
   "outputs": [
    {
     "name": "stdout",
     "output_type": "stream",
     "text": [
      "walm optimal assignment:  0.978635346639759\n"
     ]
    }
   ],
   "source": [
    "# optimal assignment\n",
    "print('walm optimal assignment: ', walm_oa(words1, words2, embedding_model))"
   ]
  },
  {
   "cell_type": "code",
   "execution_count": 6,
   "id": "456ada3d-6b6b-46bd-a1f6-613609c78a1e",
   "metadata": {},
   "outputs": [
    {
     "name": "stdout",
     "output_type": "stream",
     "text": [
      "walm optimal transport:  0.5193005172391889\n"
     ]
    }
   ],
   "source": [
    "# optimal transport\n",
    "word_dis1 = {'words': words1, 'weights': [0.5, 0.5]}\n",
    "word_dis2 = {'words': words2, 'weights': [0.1, 0.1, 0.8]}\n",
    "print('walm optimal transport: ', walm_ot(word_dis1, word_dis2, embedding_model))"
   ]
  }
 ],
 "metadata": {
  "kernelspec": {
   "display_name": "Python 3 (ipykernel)",
   "language": "python",
   "name": "python3"
  },
  "language_info": {
   "codemirror_mode": {
    "name": "ipython",
    "version": 3
   },
   "file_extension": ".py",
   "mimetype": "text/x-python",
   "name": "python",
   "nbconvert_exporter": "python",
   "pygments_lexer": "ipython3",
   "version": "3.9.21"
  }
 },
 "nbformat": 4,
 "nbformat_minor": 5
}
